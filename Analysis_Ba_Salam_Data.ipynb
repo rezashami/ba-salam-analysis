{
  "metadata": {
    "kernelspec": {
      "language": "python",
      "display_name": "Python 3",
      "name": "python3"
    },
    "language_info": {
      "name": "python",
      "version": "3.10.13",
      "mimetype": "text/x-python",
      "codemirror_mode": {
        "name": "ipython",
        "version": 3
      },
      "pygments_lexer": "ipython3",
      "nbconvert_exporter": "python",
      "file_extension": ".py"
    },
    "kaggle": {
      "accelerator": "none",
      "dataSources": [
        {
          "sourceId": 8343753,
          "sourceType": "datasetVersion",
          "datasetId": 4956094
        }
      ],
      "dockerImageVersionId": 30732,
      "isInternetEnabled": false,
      "language": "python",
      "sourceType": "notebook",
      "isGpuEnabled": false
    },
    "colab": {
      "name": "Analysis Ba Salam Data",
      "provenance": [],
      "include_colab_link": true
    }
  },
  "nbformat_minor": 0,
  "nbformat": 4,
  "cells": [
    {
      "cell_type": "markdown",
      "metadata": {
        "id": "view-in-github",
        "colab_type": "text"
      },
      "source": [
        "<a href=\"https://colab.research.google.com/github/rezashami/ba-salam-analysis/blob/main/Analysis_Ba_Salam_Data.ipynb\" target=\"_parent\"><img src=\"https://colab.research.google.com/assets/colab-badge.svg\" alt=\"Open In Colab\"/></a>"
      ]
    },
    {
      "source": [
        "\n",
        "# IMPORTANT: RUN THIS CELL IN ORDER TO IMPORT YOUR KAGGLE DATA SOURCES\n",
        "# TO THE CORRECT LOCATION (/kaggle/input) IN YOUR NOTEBOOK,\n",
        "# THEN FEEL FREE TO DELETE THIS CELL.\n",
        "# NOTE: THIS NOTEBOOK ENVIRONMENT DIFFERS FROM KAGGLE'S PYTHON\n",
        "# ENVIRONMENT SO THERE MAY BE MISSING LIBRARIES USED BY YOUR\n",
        "# NOTEBOOK.\n",
        "\n",
        "import os\n",
        "import sys\n",
        "from tempfile import NamedTemporaryFile\n",
        "from urllib.request import urlopen\n",
        "from urllib.parse import unquote, urlparse\n",
        "from urllib.error import HTTPError\n",
        "from zipfile import ZipFile\n",
        "import tarfile\n",
        "import shutil\n",
        "\n",
        "CHUNK_SIZE = 40960\n",
        "DATA_SOURCE_MAPPING = 'basalam-comments-and-products:https%3A%2F%2Fstorage.googleapis.com%2Fkaggle-data-sets%2F4956094%2F8343753%2Fbundle%2Farchive.zip%3FX-Goog-Algorithm%3DGOOG4-RSA-SHA256%26X-Goog-Credential%3Dgcp-kaggle-com%2540kaggle-161607.iam.gserviceaccount.com%252F20240706%252Fauto%252Fstorage%252Fgoog4_request%26X-Goog-Date%3D20240706T175328Z%26X-Goog-Expires%3D259200%26X-Goog-SignedHeaders%3Dhost%26X-Goog-Signature%3D66a56e220a82ecef3c7c4ffd2dded8c150c7ce6d72ea63225635f00153addd9b10a61c12441e6a0b48694dbf7b51af593c53d33fa6e5a897f7b587ebe4fef9ae65834a7151534268f0d090f7a83390d6826ed16da4bde2880be853b0f63d155dd2bda26c1b62ce78ac34fd6fed688ed6837806ad4e1c09746cbc01517d7daa1e46f660581776fc7cf447200f3c8e344014ee13a1afe1f4bacea7f3cb13f428403c96e427b3f003660e512405525982b85fa015af2b3ca66b04e64b67fad7b54fde49ac75bb7df4945ff9584d918081e00dc22c7c2360af6216959f22b5e402666a1f77fda4e1d7cd4640654cb62271889a8b00f016ace836346181922396da78'\n",
        "\n",
        "KAGGLE_INPUT_PATH='/kaggle/input'\n",
        "KAGGLE_WORKING_PATH='/kaggle/working'\n",
        "KAGGLE_SYMLINK='kaggle'\n",
        "\n",
        "!umount /kaggle/input/ 2> /dev/null\n",
        "shutil.rmtree('/kaggle/input', ignore_errors=True)\n",
        "os.makedirs(KAGGLE_INPUT_PATH, 0o777, exist_ok=True)\n",
        "os.makedirs(KAGGLE_WORKING_PATH, 0o777, exist_ok=True)\n",
        "\n",
        "try:\n",
        "  os.symlink(KAGGLE_INPUT_PATH, os.path.join(\"..\", 'input'), target_is_directory=True)\n",
        "except FileExistsError:\n",
        "  pass\n",
        "try:\n",
        "  os.symlink(KAGGLE_WORKING_PATH, os.path.join(\"..\", 'working'), target_is_directory=True)\n",
        "except FileExistsError:\n",
        "  pass\n",
        "\n",
        "for data_source_mapping in DATA_SOURCE_MAPPING.split(','):\n",
        "    directory, download_url_encoded = data_source_mapping.split(':')\n",
        "    download_url = unquote(download_url_encoded)\n",
        "    filename = urlparse(download_url).path\n",
        "    destination_path = os.path.join(KAGGLE_INPUT_PATH, directory)\n",
        "    try:\n",
        "        with urlopen(download_url) as fileres, NamedTemporaryFile() as tfile:\n",
        "            total_length = fileres.headers['content-length']\n",
        "            print(f'Downloading {directory}, {total_length} bytes compressed')\n",
        "            dl = 0\n",
        "            data = fileres.read(CHUNK_SIZE)\n",
        "            while len(data) > 0:\n",
        "                dl += len(data)\n",
        "                tfile.write(data)\n",
        "                done = int(50 * dl / int(total_length))\n",
        "                sys.stdout.write(f\"\\r[{'=' * done}{' ' * (50-done)}] {dl} bytes downloaded\")\n",
        "                sys.stdout.flush()\n",
        "                data = fileres.read(CHUNK_SIZE)\n",
        "            if filename.endswith('.zip'):\n",
        "              with ZipFile(tfile) as zfile:\n",
        "                zfile.extractall(destination_path)\n",
        "            else:\n",
        "              with tarfile.open(tfile.name) as tarfile:\n",
        "                tarfile.extractall(destination_path)\n",
        "            print(f'\\nDownloaded and uncompressed: {directory}')\n",
        "    except HTTPError as e:\n",
        "        print(f'Failed to load (likely expired) {download_url} to path {destination_path}')\n",
        "        continue\n",
        "    except OSError as e:\n",
        "        print(f'Failed to load {download_url} to path {destination_path}')\n",
        "        continue\n",
        "\n",
        "print('Data source import complete.')\n"
      ],
      "metadata": {
        "id": "sthfLQ66OL1S"
      },
      "cell_type": "code",
      "outputs": [],
      "execution_count": null
    },
    {
      "cell_type": "code",
      "source": [
        "# This Python 3 environment comes with many helpful analytics libraries installed\n",
        "# It is defined by the kaggle/python Docker image: https://github.com/kaggle/docker-python\n",
        "# For example, here's several helpful packages to load\n",
        "\n",
        "import numpy as np # linear algebra\n",
        "import pandas as pd # data processing, CSV file I/O (e.g. pd.read_csv)\n",
        "\n",
        "# Input data files are available in the read-only \"../input/\" directory\n",
        "# For example, running this (by clicking run or pressing Shift+Enter) will list all files under the input directory\n",
        "\n",
        "import os\n",
        "for dirname, _, filenames in os.walk('/kaggle/input'):\n",
        "    for filename in filenames:\n",
        "        print(os.path.join(dirname, filename))\n",
        "\n",
        "# You can write up to 20GB to the current directory (/kaggle/working/) that gets preserved as output when you create a version using \"Save & Run All\"\n",
        "# You can also write temporary files to /kaggle/temp/, but they won't be saved outside of the current session"
      ],
      "metadata": {
        "_uuid": "8f2839f25d086af736a60e9eeb907d3b93b6e0e5",
        "_cell_guid": "b1076dfc-b9ad-4769-8c92-a6c4dae69d19",
        "execution": {
          "iopub.status.busy": "2024-07-06T17:43:29.260324Z",
          "iopub.execute_input": "2024-07-06T17:43:29.260792Z",
          "iopub.status.idle": "2024-07-06T17:43:30.568329Z",
          "shell.execute_reply.started": "2024-07-06T17:43:29.260753Z",
          "shell.execute_reply": "2024-07-06T17:43:30.566639Z"
        },
        "trusted": true,
        "id": "R2_3XyPsOL1W",
        "outputId": "2d4e15d1-220b-49df-f015-3fdb7aab0ef0"
      },
      "execution_count": null,
      "outputs": [
        {
          "name": "stdout",
          "text": "/kaggle/input/basalam-comments-and-products/BaSalam.reviews.csv\n/kaggle/input/basalam-comments-and-products/BaSalam.products.csv\n",
          "output_type": "stream"
        }
      ]
    },
    {
      "cell_type": "code",
      "source": [
        "reviews = pd.read_csv('/kaggle/input/basalam-comments-and-products/BaSalam.reviews.csv',encoding='utf-8',low_memory=False)\n",
        "products = pd.read_csv('/kaggle/input/basalam-comments-and-products/BaSalam.products.csv',encoding='utf-8',low_memory=False)"
      ],
      "metadata": {
        "execution": {
          "iopub.status.busy": "2024-07-06T17:44:39.443053Z",
          "iopub.execute_input": "2024-07-06T17:44:39.445447Z",
          "iopub.status.idle": "2024-07-06T17:47:19.246374Z",
          "shell.execute_reply.started": "2024-07-06T17:44:39.445367Z",
          "shell.execute_reply": "2024-07-06T17:47:19.244846Z"
        },
        "trusted": true,
        "id": "cPiDv2-5OL1X"
      },
      "execution_count": null,
      "outputs": []
    },
    {
      "cell_type": "code",
      "source": [
        "print(products.columns)\n",
        "print(reviews.columns)"
      ],
      "metadata": {
        "execution": {
          "iopub.status.busy": "2024-07-06T17:47:19.249469Z",
          "iopub.execute_input": "2024-07-06T17:47:19.251003Z",
          "iopub.status.idle": "2024-07-06T17:47:19.259709Z",
          "shell.execute_reply.started": "2024-07-06T17:47:19.250939Z",
          "shell.execute_reply": "2024-07-06T17:47:19.25815Z"
        },
        "trusted": true,
        "id": "jOy1I5HVOL1Y",
        "outputId": "7374691f-b898-4876-d749-c485b0236e3e"
      },
      "execution_count": null,
      "outputs": [
        {
          "name": "stdout",
          "text": "Index(['_id', '_score', 'sales_count_week', 'name', 'price', 'status_id',\n       'status_title', 'stock', 'photo_MEDIUM', 'photo_SMALL',\n       'rating_average', 'rating_count', 'rating_signals', 'primaryPrice',\n       'preparationDays', 'weight', 'categoryId', 'has_delivery',\n       'has_variation', 'new_categoryId', 'navigation_id', 'vendor_name',\n       'vendor_identifier', 'vendor_statusId', 'vendor_freeShippingToIran',\n       'vendor_freeShippingToSameCity', 'vendor_cityId', 'vendor_provinceId',\n       'vendor_has_delivery', 'vendor_score', 'vendor_id', 'vendor_status_id',\n       'vendor_status_title', 'vendor_owner_city', 'vendor_owner_id',\n       'isFreeShipping', 'IsAvailable', 'IsSaleable', 'mainAttribute',\n       'categoryTitle', 'published', 'video_ORIGINAL', 'promotions'],\n      dtype='object')\nIndex(['_id', 'productId', 'star', 'user_id', 'isPost', 'isPublic', 'id',\n       'createdAt', 'updatedAt', 'hashId', 'isPosted', 'isLikedByCurrentUser',\n       'isDislikedByCurrentUser', 'likeCount', 'dislikeCount', 'attachments',\n       'history_count', 'user_id_of_user', 'name_of_user', 'hash_id_of_user',\n       'photo_of_user', 'description', 'reason_ids[0]', 'reason_ids[1]',\n       'reason_ids[2]', 'reason_ids[3]', 'reason_ids[4]', 'reason_ids[5]',\n       'reason_ids[6]', 'reason_ids[7]', 'variation_metadata'],\n      dtype='object')\n",
          "output_type": "stream"
        }
      ]
    },
    {
      "cell_type": "code",
      "source": [
        "# An error occured when reading the products data in the 18,35,36,37,38,42 columns.\n",
        "# These columns have mixed types.\n",
        "# The suggestion says to use `low_memory=False` arg to prevent the occurrence of the error.\n",
        "# I try to specify the given columns names.\n",
        "for i in [18,35,36,37,38,42]:\n",
        "    print(products.columns[i])"
      ],
      "metadata": {
        "execution": {
          "iopub.status.busy": "2024-07-06T17:47:19.261236Z",
          "iopub.execute_input": "2024-07-06T17:47:19.261603Z",
          "iopub.status.idle": "2024-07-06T17:47:19.275096Z",
          "shell.execute_reply.started": "2024-07-06T17:47:19.261573Z",
          "shell.execute_reply": "2024-07-06T17:47:19.273699Z"
        },
        "trusted": true,
        "id": "WHkf70vnOL1Z",
        "outputId": "102104e7-5fa7-48ea-9fc4-ea0d5f5c92d6"
      },
      "execution_count": null,
      "outputs": [
        {
          "name": "stdout",
          "text": "has_variation\nisFreeShipping\nIsAvailable\nIsSaleable\nmainAttribute\npromotions\n",
          "output_type": "stream"
        }
      ]
    },
    {
      "cell_type": "markdown",
      "source": [
        "# Doing Some Statistical Analysis on the Data.\n",
        "In the following blocks of codes, I do some statistical analysis for better understanding about the data."
      ],
      "metadata": {
        "id": "_S_v4uoPOL1Z"
      }
    },
    {
      "cell_type": "code",
      "source": [
        "province_info = products.groupby(['vendor_provinceId','vendor_owner_city']).size().reset_index(name='counts').sort_values('counts',ascending=False)\n",
        "print(province_info.head(30))"
      ],
      "metadata": {
        "execution": {
          "iopub.status.busy": "2024-07-06T17:48:29.15491Z",
          "iopub.execute_input": "2024-07-06T17:48:29.155937Z",
          "iopub.status.idle": "2024-07-06T17:48:29.702436Z",
          "shell.execute_reply.started": "2024-07-06T17:48:29.155868Z",
          "shell.execute_reply": "2024-07-06T17:48:29.700779Z"
        },
        "trusted": true,
        "id": "hL8r3yt6OL1a",
        "outputId": "4287c0e8-ead2-44dd-afd2-3d6202a4aad3"
      },
      "execution_count": null,
      "outputs": [
        {
          "name": "stdout",
          "text": "      vendor_provinceId vendor_owner_city  counts\n277                10.0             تهران  584584\n408                13.0              مشهد  195954\n666                21.0                قم  166082\n109                 6.0            اصفهان  141791\n11                  3.0             تبریز   70817\n211                 7.0               کرج   69220\n605                19.0             شیراز   62124\n1009               33.0               یزد   37514\n451                15.0             اهواز   35362\n806                27.0               رشت   29631\n185                 6.0             کاشان   24585\n659                20.0             قزوین   23773\n501                16.0             زنجان   23003\n749                24.0          کرمانشاه   20855\n988                32.0             همدان   20312\n910                30.0              اراک   18502\n85                  5.0            اردبیل   17502\n287                10.0            شهریار   15409\n671                22.0              بانه   14774\n785                26.0             گرگان   14675\n57                  4.0            ارومیه   14253\n350                12.0            بیرجند   13774\n272                10.0            اندیشه   13692\n281                10.0          رباطکریم   13345\n271                10.0          اسلامشهر   13227\n879                29.0              ساری   13225\n941                31.0          بندرعباس   12689\n728                23.0             کرمان   11734\n295                10.0               قدس   11452\n204                 7.0             فردیس   11291\n",
          "output_type": "stream"
        }
      ]
    },
    {
      "cell_type": "markdown",
      "source": [
        "It is interesting! The capital of Koudrdestan province with code 22 (Sannadaj) has lower salers than the other city like Baneh.\n",
        "\n",
        "Let see what happens in Kourdestan."
      ],
      "metadata": {
        "id": "XGT7nZpzOL1b"
      }
    },
    {
      "cell_type": "code",
      "source": [
        "print(province_info.loc[province_info['vendor_provinceId'] == 22])"
      ],
      "metadata": {
        "execution": {
          "iopub.status.busy": "2024-07-06T17:49:02.294514Z",
          "iopub.execute_input": "2024-07-06T17:49:02.294948Z",
          "iopub.status.idle": "2024-07-06T17:49:02.307112Z",
          "shell.execute_reply.started": "2024-07-06T17:49:02.294913Z",
          "shell.execute_reply": "2024-07-06T17:49:02.305482Z"
        },
        "trusted": true,
        "id": "N_l8qnxqOL1c",
        "outputId": "eadfb227-da9f-4373-ec0d-56b5a8b27a50"
      },
      "execution_count": null,
      "outputs": [
        {
          "name": "stdout",
          "text": "     vendor_provinceId vendor_owner_city  counts\n671               22.0              بانه   14774\n680               22.0             سنندج    6961\n679               22.0               سقز    3365\n682               22.0            مریوان    2352\n681               22.0              قروه    1724\n673               22.0             بیجار    1141\n675               22.0            دهگلان    1115\n684               22.0          کامیاران     638\n670               22.0       اورامان تخت     295\n676               22.0          دیواندره     193\n672               22.0        بلبان آباد      58\n677               22.0           سروآباد      42\n678               22.0         سریش آباد      35\n683               22.0              موچش      20\n685               22.0        کانی دینار       7\n674               22.0            دلبران       6\n686               22.0           یاسوکند       3\n",
          "output_type": "stream"
        }
      ]
    },
    {
      "cell_type": "markdown",
      "source": [
        "As you can see, unlike other provinces the capital of the Kurdistan province has fewer vendors than the Baneh city. The city of Baneh is close to the border and the import and export are booming there. Although other cities like Bandar Genaveh is close to the border, but there are fewer vendors in it."
      ],
      "metadata": {
        "id": "37UfPZrJOL1c"
      }
    },
    {
      "cell_type": "code",
      "source": [
        "print(province_info.loc[province_info['vendor_owner_city'] == 'بندرگناوه'])\n",
        "print(province_info.loc[province_info['vendor_owner_city'] == 'بانه'])"
      ],
      "metadata": {
        "execution": {
          "iopub.status.busy": "2024-07-06T17:49:10.279983Z",
          "iopub.execute_input": "2024-07-06T17:49:10.280453Z",
          "iopub.status.idle": "2024-07-06T17:49:10.298466Z",
          "shell.execute_reply.started": "2024-07-06T17:49:10.280419Z",
          "shell.execute_reply": "2024-07-06T17:49:10.296281Z"
        },
        "trusted": true,
        "id": "X5IXMGtiOL1d",
        "outputId": "cb9c7c8d-3c5b-43e9-ef13-3885c2d1277a"
      },
      "execution_count": null,
      "outputs": [
        {
          "name": "stdout",
          "text": "     vendor_provinceId vendor_owner_city  counts\n245                9.0         بندرگناوه    7626\n     vendor_provinceId vendor_owner_city  counts\n671               22.0              بانه   14774\n",
          "output_type": "stream"
        }
      ]
    },
    {
      "cell_type": "code",
      "source": [
        "from collections import defaultdict\n",
        "provinces_names = defaultdict(list, [])\n",
        "province_sale = defaultdict(list, [])\n",
        "for index, row in province_info.iterrows():\n",
        "    provinces_names[row['vendor_provinceId']].append(row['vendor_owner_city'])\n",
        "    province_sale[row['vendor_provinceId']].append(row['counts'])\n",
        "\n",
        "data = []\n",
        "for k, v in province_sale.items():\n",
        "    if k == 22:\n",
        "        data.append([provinces_names[k][1],int(sum(v))])\n",
        "        print(f'{provinces_names[k][1]} ({int(k)}) ----> {sum(v)}')\n",
        "    else:\n",
        "        data.append([provinces_names[k][0],int(sum(v))])\n",
        "        print(f'{provinces_names[k][0]} ({int(k)}) ----> {sum(v)}')"
      ],
      "metadata": {
        "execution": {
          "iopub.status.busy": "2024-06-30T17:58:20.672059Z",
          "iopub.execute_input": "2024-06-30T17:58:20.672468Z",
          "iopub.status.idle": "2024-06-30T17:58:20.756896Z",
          "shell.execute_reply.started": "2024-06-30T17:58:20.672436Z",
          "shell.execute_reply": "2024-06-30T17:58:20.755809Z"
        },
        "trusted": true,
        "id": "qsXMT826OL1d",
        "outputId": "bea74177-0e2d-4582-9d0b-ba6d45edd8ab"
      },
      "execution_count": null,
      "outputs": [
        {
          "name": "stdout",
          "text": "تهران (10) ----> 726253\nمشهد (13) ----> 243883\nقم (21) ----> 167940\nاصفهان (6) ----> 242137\nتبریز (3) ----> 102657\nکرج (7) ----> 95940\nشیراز (19) ----> 96151\nیزد (33) ----> 45884\nاهواز (15) ----> 81179\nرشت (27) ----> 65317\nقزوین (20) ----> 39512\nزنجان (16) ----> 28545\nکرمانشاه (24) ----> 30775\nهمدان (32) ----> 32915\nاراک (30) ----> 33883\nاردبیل (5) ----> 22736\nسنندج (22) ----> 32729\nگرگان (26) ----> 25220\nارومیه (4) ----> 42761\nبیرجند (12) ----> 30616\nساری (29) ----> 56899\nبندرعباس (31) ----> 24925\nکرمان (23) ----> 22110\nخرم آباد (28) ----> 23809\nسمنان (17) ----> 17497\nبوشهر (9) ----> 28529\nبجنورد (14) ----> 12887\nشهرکرد (11) ----> 14769\nزاهدان (18) ----> 12387\nایلام (8) ----> 5250\nیاسوج (25) ----> 5256\n",
          "output_type": "stream"
        }
      ]
    },
    {
      "cell_type": "code",
      "source": [
        "name_count = np.array(sorted(data,key=lambda x: x[1]))\n",
        "print(name_count)\n",
        "print(name_count[:,0])\n",
        "print(name_count[:,1])"
      ],
      "metadata": {
        "execution": {
          "iopub.status.busy": "2024-06-30T18:00:25.947047Z",
          "iopub.execute_input": "2024-06-30T18:00:25.947567Z",
          "iopub.status.idle": "2024-06-30T18:00:25.955735Z",
          "shell.execute_reply.started": "2024-06-30T18:00:25.947515Z",
          "shell.execute_reply": "2024-06-30T18:00:25.954239Z"
        },
        "trusted": true,
        "id": "WlktEGEXOL1e",
        "outputId": "f23f592f-e9f8-4d00-c19f-8f05442edc33"
      },
      "execution_count": null,
      "outputs": [
        {
          "name": "stdout",
          "text": "[['ایلام' '5250']\n ['یاسوج' '5256']\n ['زاهدان' '12387']\n ['بجنورد' '12887']\n ['شهرکرد' '14769']\n ['سمنان' '17497']\n ['کرمان' '22110']\n ['اردبیل' '22736']\n ['خرم آباد' '23809']\n ['بندرعباس' '24925']\n ['گرگان' '25220']\n ['بوشهر' '28529']\n ['زنجان' '28545']\n ['بیرجند' '30616']\n ['کرمانشاه' '30775']\n ['سنندج' '32729']\n ['همدان' '32915']\n ['اراک' '33883']\n ['قزوین' '39512']\n ['ارومیه' '42761']\n ['یزد' '45884']\n ['ساری' '56899']\n ['رشت' '65317']\n ['اهواز' '81179']\n ['کرج' '95940']\n ['شیراز' '96151']\n ['تبریز' '102657']\n ['قم' '167940']\n ['اصفهان' '242137']\n ['مشهد' '243883']\n ['تهران' '726253']]\n['ایلام' 'یاسوج' 'زاهدان' 'بجنورد' 'شهرکرد' 'سمنان' 'کرمان' 'اردبیل'\n 'خرم آباد' 'بندرعباس' 'گرگان' 'بوشهر' 'زنجان' 'بیرجند' 'کرمانشاه' 'سنندج'\n 'همدان' 'اراک' 'قزوین' 'ارومیه' 'یزد' 'ساری' 'رشت' 'اهواز' 'کرج' 'شیراز'\n 'تبریز' 'قم' 'اصفهان' 'مشهد' 'تهران']\n['5250' '5256' '12387' '12887' '14769' '17497' '22110' '22736' '23809'\n '24925' '25220' '28529' '28545' '30616' '30775' '32729' '32915' '33883'\n '39512' '42761' '45884' '56899' '65317' '81179' '95940' '96151' '102657'\n '167940' '242137' '243883' '726253']\n",
          "output_type": "stream"
        }
      ]
    },
    {
      "cell_type": "code",
      "source": [
        "# It is require to have active Phone number in Kaggle account\n",
        "!pip3 install arabic-reshaper\n",
        "!pip install python-bidi"
      ],
      "metadata": {
        "trusted": true,
        "id": "6j9ZfAVaOL1e"
      },
      "execution_count": null,
      "outputs": []
    },
    {
      "cell_type": "code",
      "source": [
        "\n",
        "import matplotlib.pyplot as plt\n",
        "from bidi.algorithm import get_display\n",
        "import arabic_reshaper\n",
        "def make_farsi_text(x):\n",
        "    result = []\n",
        "    for n in x:\n",
        "        reshaped_text = arabic_reshaper.reshape(n)\n",
        "        result.append(get_display(reshaped_text))\n",
        "    return result\n",
        "\n",
        "from sklearn import preprocessing\n",
        "fig, ax = plt.subplots()\n",
        "ax.barh(name_count[:,0], name_count[:,1])\n",
        "ax.set_yticks(name_count[:,0], labels=make_farsi_text(name_count[:,0]))\n",
        "# ax.invert_yaxis()  # labels read top-to-bottom\n",
        "ax.set_xlabel('تعداد فروشنده')\n",
        "ax.set_title('')\n",
        "plt.show()"
      ],
      "metadata": {
        "execution": {
          "iopub.status.busy": "2024-06-30T18:00:34.616778Z",
          "iopub.execute_input": "2024-06-30T18:00:34.617865Z",
          "iopub.status.idle": "2024-06-30T18:00:35.091299Z",
          "shell.execute_reply.started": "2024-06-30T18:00:34.617818Z",
          "shell.execute_reply": "2024-06-30T18:00:35.089991Z"
        },
        "trusted": true,
        "id": "luvwcuiaOL1e",
        "outputId": "e0ee781a-4a0d-487b-b1b5-aa8f8be8741b"
      },
      "execution_count": null,
      "outputs": [
        {
          "output_type": "display_data",
          "data": {
            "text/plain": "<Figure size 640x480 with 1 Axes>",
            "image/png": "[encoded data removed]"
          },
          "metadata": {}
        }
      ]
    },
    {
      "cell_type": "markdown",
      "source": [
        "# Check for the `categoryTitle` Column"
      ],
      "metadata": {
        "id": "Wz5LbL2pOL1f"
      }
    },
    {
      "cell_type": "code",
      "source": [
        "category_info = products.groupby(['categoryTitle','price']).size().reset_index(name='counts').sort_values('price',ascending=True)\n",
        "print(category_info.head(50))\n",
        "category_info.to_csv('Category.csv', sep=',', encoding='utf-8')"
      ],
      "metadata": {
        "execution": {
          "iopub.status.busy": "2024-07-06T17:50:02.392056Z",
          "iopub.execute_input": "2024-07-06T17:50:02.393136Z",
          "iopub.status.idle": "2024-07-06T17:50:04.984357Z",
          "shell.execute_reply.started": "2024-07-06T17:50:02.393093Z",
          "shell.execute_reply": "2024-07-06T17:50:04.983036Z"
        },
        "trusted": true,
        "id": "I2-wrITXOL1f",
        "outputId": "b8519efd-995d-461e-ae2d-e0e8a7c6eb36"
      },
      "execution_count": null,
      "outputs": [
        {
          "name": "stdout",
          "text": "                       categoryTitle    price  counts\n378795           پرده و ملزومات پرده  10000.0       3\n110053                     جعبه هدیه  10000.0      14\n299714              لوازم دانش آموزی  10000.0      17\n403255              کاغذ و پاکت کادو  10000.0      14\n1216                          آبرسان  10000.0       2\n106038         جاباتری و شارژر باتری  10000.0       1\n105751               تیغه برف پاک کن  10000.0       1\n298668                   لوازم خیاطی  10000.0      68\n104197        تیشرت و پولوشرت مردانه  10000.0       8\n43344                اکسسوری دخترانه  10000.0       9\n303046           لوازم رزین و ویترای  10000.0      13\n304852                لوازم شمع سازی  10000.0       1\n305481         لوازم مذهبی و عزاداری  10000.0      26\n453092                        گلدوزی  10000.0       1\n306514                  لوازم مهمانی  10000.0      13\n300649                 لوازم دستشویی  10000.0       3\n296315                    لوازم حمام  10000.0       1\n416645                   کرم دور چشم  10000.0       1\n415413           کرم دست، صورت و بدن  10000.0       1\n129659                      خوشنویسی  10000.0       1\n23281                ابزار چشم و مژه  10000.0       4\n22954                 ابزار چرم دوزی  10000.0       6\n279081                لباس زیر زنانه  10000.0       1\n285926                  لوازم آبیاری  10000.0       5\n122978   خدمات حمل و نقل و اسباب کشی  10000.0       1\n286783                   لوازم اداری  10000.0      16\n121573             خاک، کود و آفت کش  10000.0       4\n120881                     خاتم کاری  10000.0       1\n388025                           چای  10000.0       4\n386983            چادر و پوشش اسلامی  10000.0       1\n115738                 حالت دهنده مو  10000.0       1\n115655         جک و سوکت گوشی و تبلت  10000.0       1\n21323                ابزار های پزشکی  10000.0       5\n292204       لوازم جانبی ساعت هوشمند  10000.0       2\n417576                کرم روشن کننده  10000.0       1\n131386                    دامن زنانه  10000.0       4\n100448                        تلسکوپ  10000.0       1\n18290         ابزار مانیکور و پدیکور  10000.0       5\n326514        ماکارونی، پاستا و رشته  10000.0       1\n85197                تجهیزات کارگاهی  10000.0       2\n84357                    تجهیزات ویپ  10000.0       1\n328900                         مجسمه  10000.0       9\n46001                 اکسسوری نوزادی  10000.0       2\n451937                         گلدان  10000.0      16\n431875  کلاه، شالگردن و دستکش مردانه  10000.0       1\n329801                 مجسمه و تندیس  10000.0      10\n81698                تجهیزات ماینینگ  10000.0       1\n80817                 تجهیزات رنگ مو  10000.0       1\n435109                         کمپوت  10000.0       1\n435485                 کمک های اولیه  10000.0       1\n",
          "output_type": "stream"
        }
      ]
    },
    {
      "cell_type": "markdown",
      "source": [
        "These results show that the price on the Ba Salam platform is very diverse and it is not possible to gain additional knowledge about the price of goods with this data."
      ],
      "metadata": {
        "id": "tGed8KcoOL1g"
      }
    },
    {
      "cell_type": "code",
      "source": [],
      "metadata": {
        "id": "rnmFYNCaOL1g"
      },
      "execution_count": null,
      "outputs": []
    }
  ]
}